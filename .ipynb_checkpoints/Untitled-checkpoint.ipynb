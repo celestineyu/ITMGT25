{
 "cells": [
  {
   "cell_type": "code",
   "execution_count": 5,
   "id": "42da20b7-59a2-42f3-a32e-09b3f09764f5",
   "metadata": {},
   "outputs": [],
   "source": [
    "def savings (gross_pay,tax_rate,expenses):\n",
    "    return int(gross_pay-(gross_pay*tax_rate))-expenses"
   ]
  },
  {
   "cell_type": "code",
   "execution_count": 6,
   "id": "bb14b1ac-ba93-4c5c-9df0-373bfe399114",
   "metadata": {},
   "outputs": [
    {
     "data": {
      "text/plain": [
       "400"
      ]
     },
     "execution_count": 6,
     "metadata": {},
     "output_type": "execute_result"
    }
   ],
   "source": [
    "savings(1000,0.10,500)"
   ]
  },
  {
   "cell_type": "code",
   "execution_count": 15,
   "id": "0a3fc6df-876f-48ae-a5ab-669ec11a8684",
   "metadata": {},
   "outputs": [],
   "source": [
    "def material_waste(total_material,material_units,num_jobs,job_consumption):\n",
    "    return str(total_material-(num_jobs*job_consumption))+material_units"
   ]
  },
  {
   "cell_type": "code",
   "execution_count": 17,
   "id": "f25f1d8c-f4d2-40cc-ad9e-02af0f1ddd9d",
   "metadata": {},
   "outputs": [
    {
     "data": {
      "text/plain": [
       "'7500kg'"
      ]
     },
     "execution_count": 17,
     "metadata": {},
     "output_type": "execute_result"
    }
   ],
   "source": [
    "material_waste(10000,\"kg\",5,500)"
   ]
  },
  {
   "cell_type": "code",
   "execution_count": 25,
   "id": "299be56f-e63e-403e-9d76-2cf29b807b08",
   "metadata": {},
   "outputs": [],
   "source": [
    "def interest(principal,rate,periods):\n",
    "    return int(principal*(rate*periods)+principal)"
   ]
  },
  {
   "cell_type": "code",
   "execution_count": 26,
   "id": "80148366-b7fe-44c5-9667-b04a255bcfe7",
   "metadata": {},
   "outputs": [
    {
     "data": {
      "text/plain": [
       "25000"
      ]
     },
     "execution_count": 26,
     "metadata": {},
     "output_type": "execute_result"
    }
   ],
   "source": [
    "interest(10000,0.3,5)"
   ]
  },
  {
   "cell_type": "code",
   "execution_count": 52,
   "id": "1a6d3032-a440-4b40-bc28-be50bb6fa29c",
   "metadata": {},
   "outputs": [],
   "source": [
    "def body_mass_index(weight,height):\n",
    "    return (weight/2.205)/((height[0]/3.281)+(height[1]/39.37))**2"
   ]
  },
  {
   "cell_type": "code",
   "execution_count": 53,
   "id": "a2b478ac-6eeb-417c-a431-2ded6002fff2",
   "metadata": {},
   "outputs": [
    {
     "data": {
      "text/plain": [
       "18.879754315936122"
      ]
     },
     "execution_count": 53,
     "metadata": {},
     "output_type": "execute_result"
    }
   ],
   "source": [
    "body_mass_index(110,[5,4])"
   ]
  },
  {
   "cell_type": "code",
   "execution_count": null,
   "id": "a8cd9985-48fd-4650-992c-320c09d67382",
   "metadata": {},
   "outputs": [],
   "source": []
  }
 ],
 "metadata": {
  "kernelspec": {
   "display_name": "Python 3 (ipykernel)",
   "language": "python",
   "name": "python3"
  },
  "language_info": {
   "codemirror_mode": {
    "name": "ipython",
    "version": 3
   },
   "file_extension": ".py",
   "mimetype": "text/x-python",
   "name": "python",
   "nbconvert_exporter": "python",
   "pygments_lexer": "ipython3",
   "version": "3.9.12"
  }
 },
 "nbformat": 4,
 "nbformat_minor": 5
}
